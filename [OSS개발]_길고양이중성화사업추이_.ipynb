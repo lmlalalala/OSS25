{
  "nbformat": 4,
  "nbformat_minor": 0,
  "metadata": {
    "colab": {
      "provenance": [],
      "authorship_tag": "ABX9TyMSfSG2vRH9zMEoH69AbA8O",
      "include_colab_link": true
    },
    "kernelspec": {
      "name": "python3",
      "display_name": "Python 3"
    },
    "language_info": {
      "name": "python"
    }
  },
  "cells": [
    {
      "cell_type": "markdown",
      "metadata": {
        "id": "view-in-github",
        "colab_type": "text"
      },
      "source": [
        "<a href=\"https://colab.research.google.com/github/lmlalalala/OSS25/blob/main/%5BOSS%EA%B0%9C%EB%B0%9C%5D_%EA%B8%B8%EA%B3%A0%EC%96%91%EC%9D%B4%EC%A4%91%EC%84%B1%ED%99%94%EC%82%AC%EC%97%85%EC%B6%94%EC%9D%B4_.ipynb\" target=\"_parent\"><img src=\"https://colab.research.google.com/assets/colab-badge.svg\" alt=\"Open In Colab\"/></a>"
      ]
    },
    {
      "cell_type": "code",
      "execution_count": null,
      "metadata": {
        "id": "XlZNGrIsSYDz"
      },
      "outputs": [],
      "source": []
    },
    {
      "cell_type": "markdown",
      "source": [
        "### 공공데이터 포털에서 가져온 < 창원시 길고양이 중성화 사업 추이 한눈에 확인하기 >\n"
      ],
      "metadata": {
        "id": "Eg7Z0qCSSZgS"
      }
    },
    {
      "cell_type": "code",
      "source": [
        "# prompt: /content/sample_data/translated_cat_tnr_data.csv 이 파일을 차트로 만들어줘\n",
        "\n",
        "import pandas as pd\n",
        "import matplotlib.pyplot as plt\n",
        "\n",
        "# 파일 경로 설정\n",
        "file_path = '/content/sample_data/translated_cat_tnr_data.csv'\n",
        "\n",
        "try:\n",
        "    # CSV 파일을 pandas DataFrame으로 읽기\n",
        "    df = pd.read_csv(file_path, encoding='utf-8')  # encoding 지정\n",
        "\n",
        "    # 데이터 확인 (선택 사항)\n",
        "    print(df.head())\n",
        "\n",
        "    # 차트 생성 (예시: 컬럼 '년도'와 '중성화 마리 수'를 사용)\n",
        "    # 필요에 따라 컬럼명을 수정해야 합니다.\n",
        "    if '년도' in df.columns and '중성화 마리 수' in df.columns:\n",
        "        plt.figure(figsize=(10, 6))  # 차트 크기 조정\n",
        "        plt.plot(df['년도'], df['중성화 마리 수'], marker='o')\n",
        "        plt.xlabel('년도')\n",
        "        plt.ylabel('중성화 마리 수')\n",
        "        plt.title('창원시 길고양이 중성화 사업 추이')\n",
        "        plt.grid(True)\n",
        "        plt.show()\n",
        "    else:\n",
        "        print(\"Error: '년도' 또는 '중성화 마리 수' 컬럼이 파일에서 발견되지 않았습니다.\")\n",
        "\n",
        "except FileNotFoundError:\n",
        "    print(f\"Error: 파일 '{file_path}'를 찾을 수 없습니다.\")\n",
        "except pd.errors.ParserError:\n",
        "    print(f\"Error: 파일 '{file_path}'를 읽는 중 오류가 발생했습니다. 파일 형식을 확인해주세요.\")\n",
        "except Exception as e:\n",
        "    print(f\"Error: 알 수 없는 오류 발생 - {e}\")\n"
      ],
      "metadata": {
        "colab": {
          "base_uri": "https://localhost:8080/"
        },
        "id": "5ddAkafXTHb7",
        "outputId": "bcf8ed95-d162-4b18-fcdc-d67fd1d7959a"
      },
      "execution_count": null,
      "outputs": [
        {
          "output_type": "stream",
          "name": "stdout",
          "text": [
            "  Announcement Number Capture Date & Time   Capture Location    Species  \\\n",
            "0    경남-창원-2022-00324    2022-06-07 00:00  동정동 흥한웰가아파트 후문 부근  Stray Cat   \n",
            "1    경남-창원-2022-00323    2022-06-07 00:00       의안로 50번길 4-2  Stray Cat   \n",
            "2    경남-창원-2022-00322    2022-06-06 00:00   동정동 오성아파트 노인정 부근  Stray Cat   \n",
            "3    경남-창원-2022-00321    2022-06-06 00:00         북면 월촌리 116  Stray Cat   \n",
            "4    경남-창원-2022-00320    2022-06-06 00:00         북면 월촌리 116  Stray Cat   \n",
            "\n",
            "        Breed               Color  Gender  Weight (kg)   Age  \\\n",
            "0  Korean Cat   White+Gray+Yellow  Female         3.54  3살추정   \n",
            "1  Korean Cat         Black+White  Female         2.48  2살추정   \n",
            "2  Korean Cat  White+Black+Yellow  Female         2.50  1살추정   \n",
            "3  Korean Cat        Yellow+White    Male         3.40  1살추정   \n",
            "4  Korean Cat  Yellow+Black+White  Female         2.20  1살추정   \n",
            "\n",
            "  TNR (Trap-Neuter-Return) TNR Hospital   TNR Date & Time Release Date & Time  \\\n",
            "0                      Yes     상아 동물메디컬  2022-06-07 00:00    2022-06-10 00:00   \n",
            "1                      Yes     상아 동물메디컬  2022-06-07 00:00    2022-06-10 00:00   \n",
            "2                      NaN          NaN               NaN                 NaN   \n",
            "3                      Yes       경상동물병원  2022-06-06 00:00    2022-06-07 00:00   \n",
            "4                      Yes       경상동물병원  2022-06-09 00:00    2022-06-09 00:00   \n",
            "\n",
            "                     Release Location  \n",
            "0  동정동 흥한웰가아파트 후문 부근 (방사 동영상 파일 별도보관)  \n",
            "1       의안로 50번길 4-2 (방사 동영상 파일 별도보관)  \n",
            "2                                 NaN  \n",
            "3         북면 월촌리 116 (방사 동영상 파일 별도보관)  \n",
            "4         북면 월촌리 116 (방사 동영상 파일 별도보관)  \n",
            "Error: '년도' 또는 '중성화 마리 수' 컬럼이 파일에서 발견되지 않았습니다.\n"
          ]
        }
      ]
    }
  ]
}